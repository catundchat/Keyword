{
  "nbformat": 4,
  "nbformat_minor": 0,
  "metadata": {
    "colab": {
      "provenance": [],
      "authorship_tag": "ABX9TyPeCfZik++B/tgwWP+P1bN+",
      "include_colab_link": true
    },
    "kernelspec": {
      "name": "python3",
      "display_name": "Python 3"
    },
    "language_info": {
      "name": "python"
    }
  },
  "cells": [
    {
      "cell_type": "markdown",
      "metadata": {
        "id": "view-in-github",
        "colab_type": "text"
      },
      "source": [
        "<a href=\"https://colab.research.google.com/github/catundchat/Keyword/blob/main/keyword.ipynb\" target=\"_parent\"><img src=\"https://colab.research.google.com/assets/colab-badge.svg\" alt=\"Open In Colab\"/></a>"
      ]
    },
    {
      "cell_type": "markdown",
      "source": [
        "## 关键词提取"
      ],
      "metadata": {
        "id": "LdeWFIsY3ipE"
      }
    },
    {
      "cell_type": "code",
      "execution_count": 1,
      "metadata": {
        "colab": {
          "base_uri": "https://localhost:8080/"
        },
        "id": "ywis_xZ93gFF",
        "outputId": "99618b76-63c3-490d-b486-11fee6ab0c84"
      },
      "outputs": [
        {
          "output_type": "stream",
          "name": "stdout",
          "text": [
            "Looking in indexes: https://pypi.org/simple, https://us-python.pkg.dev/colab-wheels/public/simple/\n",
            "Requirement already satisfied: jieba in /usr/local/lib/python3.10/dist-packages (0.42.1)\n"
          ]
        }
      ],
      "source": [
        "!pip install jieba"
      ]
    },
    {
      "cell_type": "code",
      "source": [
        "import jieba\n",
        "import jieba.analyse\n",
        "from collections import Counter\n",
        "\n",
        "# 需要分析的中文对话\n",
        "text = '''\n",
        "现在，你想和我聊些什么话题？\n",
        "\n",
        "情绪问题\n",
        "\n",
        "好的，你最近有什么情绪问题吗？比如说，你是否经常感到沮丧、焦虑或者压力很大？\n",
        "\n",
        "今天同事要给我介绍对象，我很感恩。一方面是因为他看得起我，第二方面是我很好，所以他才给我介绍，但是他问我什么要求。我不太敢于说出来。\n",
        "\n",
        "我理解你的感受。你可能感到有些不自信或者害怕表达自己的要求。这是很正常的，但是如果你不说出来，你可能会错过一个很好的机会。你可以先想一想，你对一个潜在的伴侣有什么要求或者期望？这些要求可以是性格、兴趣爱好、生活方式等方面的。如果你不确定，也可以和我一起探讨一下。\n",
        "\n",
        "一个样貌好的，个子高的，性格成熟的。\n",
        "\n",
        "我明白了，你希望对方有一定的外貌条件，这是很正常的。但是，我想提醒你，外貌并不是建立长期关系的唯一因素。性格、兴趣爱好、价值观等方面的匹配同样重要。你可以和你的同事说出你的要求，但是也要保持开放的心态，不要过于强求对方符合你的所有要求。最重要的是，你要相信自己的价值，不要因为对方的条件不符合你的期望而感到失落或者自卑。\n",
        "\n",
        "第一我的父亲，病了。家里有负担，第二是我的工资不是很高，我想提高自己的工资，提高了我的工资，我就有自信了。\n",
        "\n",
        "我很抱歉听到你父亲生病的消息，这一定是很困难的时期。你的家庭负担增加了，这也会给你带来压力和焦虑。同时，你希望提高自己的工资，这是很好的想法。你可以考虑通过提高自己的技能水平或者寻找更好的工作机会来实现这个目标。但是，我也想提醒你，不要过于强调工资的重要性，因为这可能会让你忽略其他重要的方面，比如说工作的意义和价值。你可以思考一下，你希望通过工作获得什么，除了工资之外，还有哪些方面是你关注的？\n",
        "\n",
        "工作带来的是高工资，还有人脉关系生活的扩展。\n",
        "\n",
        "我理解你的想法。高工资和人脉关系的确可以带来很多好处，比如说经济上的稳定和社交圈子的扩展。但是，我也想提醒你，工作不仅仅是为了获得这些好处，还有更重要的意义和价值。工作可以让你发挥自己的才能和能力，实现自我价值，同时也可以为社会做出贡献。你可以思考一下，你希望通过工作实现什么样的价值和意义？这样可以帮助你更好地理解自己的职业发展方向，同时也可以让你更加有动力和自信地面对工作中的挑战。\n",
        "\n",
        "工作带来的价值和意义是？你能告诉我吗？\n",
        "\n",
        "当你从事一份工作时，你不仅仅是在赚钱，还可以获得其他的价值和意义。比如说，工作可以让你发挥自己的才能和能力，实现自我价值。通过工作，你可以学习新的知识和技能，提高自己的专业水平，同时也可以为社会做出贡献。此外，工作还可以带来成就感和自豪感，让你感到自己的努力和付出得到了认可和回报。最后，工作也可以带来社交圈子的扩展，让你结识更多的人，拓展人脉关系。这些都是工作带来的价值和意义。\n",
        "\n",
        "对我现在的工作我其实很喜欢。我觉得这份职业很光荣，很荣耀。\n",
        "'''\n",
        "\n",
        "# # 用stop_words_path=你创建的停用词文档路径\n",
        "# stop_words_path = \"stop_words.txt\"\n",
        "\n",
        "# # 设置停用词文件\n",
        "# jieba.analyse.set_stop_words(stop_words_path)\n",
        "\n",
        "# allow_pos参数设置所需关键词词性例如：'n': 名词，'v': 动词，'a': 形容词，'d': 副词，'nr': 人名，'ns': 地名\n",
        "# 如果不限制就设置为空\n",
        "allow_pos = ('n','v','a','d')\n",
        "\n",
        "# 提取关键词及其权重,topK代表提取前K个关键词,withWeight设置权重\n",
        "keywords_with_weight = jieba.analyse.extract_tags(text, topK=10, withWeight=True, allowPOS=allow_pos)\n",
        "\n",
        "# 分词\n",
        "words = jieba.lcut(text)\n",
        "\n",
        "# 统计词频\n",
        "word_count = Counter(words)\n",
        "\n",
        "# 输出关键词、权重及出现次数\n",
        "print(\"关键词、权重及出现次数：\")\n",
        "for keyword, weight in keywords_with_weight:\n",
        "    count = word_count[keyword]\n",
        "    print(f\"{keyword}: 权重={weight:.4f}, 出现次数={count}\")\n"
      ],
      "metadata": {
        "colab": {
          "base_uri": "https://localhost:8080/"
        },
        "id": "HT7yuRZt7--y",
        "outputId": "d7f99ee7-7f95-4917-e398-6ced89bc00e8"
      },
      "execution_count": 13,
      "outputs": [
        {
          "output_type": "stream",
          "name": "stdout",
          "text": [
            "关键词、权重及出现次数：\n",
            "价值: 权重=0.1981, 出现次数=9\n",
            "带来: 权重=0.1589, 出现次数=7\n",
            "意义: 权重=0.1520, 出现次数=6\n",
            "要求: 权重=0.1251, 出现次数=6\n",
            "社交圈子: 权重=0.1195, 出现次数=2\n",
            "兴趣爱好: 权重=0.1082, 出现次数=2\n",
            "提高: 权重=0.1071, 出现次数=5\n",
            "自信: 权重=0.1057, 出现次数=3\n",
            "性格: 权重=0.0966, 出现次数=3\n",
            "感到: 权重=0.0952, 出现次数=4\n"
          ]
        }
      ]
    }
  ]
}